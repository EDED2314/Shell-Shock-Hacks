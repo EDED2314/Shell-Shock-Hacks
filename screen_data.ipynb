{
 "cells": [
  {
   "attachments": {},
   "cell_type": "markdown",
   "metadata": {},
   "source": [
    "# Streaming Data\n",
    "\n",
    "To stream data from an open window on Windows, we can use the win32 libraries to determine which windows are currently open and select the window handle for the application of interest; "
   ]
  },
  {
   "attachments": {},
   "cell_type": "markdown",
   "metadata": {},
   "source": [
    "## import packages"
   ]
  },
  {
   "cell_type": "code",
   "execution_count": 4,
   "metadata": {},
   "outputs": [],
   "source": [
    "import win32gui\n",
    "import time\n",
    "from PIL import ImageGrab\n",
    "import numpy as np\n",
    "import cv2\n",
    "winlist = []"
   ]
  },
  {
   "attachments": {},
   "cell_type": "markdown",
   "metadata": {},
   "source": [
    "## Code\n"
   ]
  },
  {
   "cell_type": "code",
   "execution_count": 5,
   "metadata": {},
   "outputs": [],
   "source": [
    "def enum_cb(hwnd, results):\n",
    "    \n",
    "    results.append((hwnd, win32gui.GetWindowText(hwnd)))\n",
    "    \n"
   ]
  },
  {
   "cell_type": "code",
   "execution_count": 6,
   "metadata": {},
   "outputs": [
    {
     "name": "stdout",
     "output_type": "stream",
     "text": [
      "[(65950, ''), (65876, ''), (65822, ''), (65796, ''), (65792, ''), (65782, ''), (65772, ''), (65768, ''), (65760, ''), (65816, ''), (196744, ''), (65762, ''), (66062, 'Battery Meter'), (66094, ''), (66126, 'Network Flyout'), (66124, ''), (1574762, 'Verifying…'), (788466, 'Open a new tab (Ctrl+T)\\nPress and hold to open a new container tab'), (197764, ''), (132728, 'Form'), (65846, ''), (132244, 'Logitech G HUB'), (459446, '● screen_data.ipynb - Shell Shock Hacks - Visual Studio Code'), (67334, 'Mar 26\\u200a–\\u200aApr 1, 2023 · Cron'), (591504, ''), (9701282, ''), (198326, ''), (2033728, ''), (25298720, ''), (1115944, ''), (329748, ''), (328854, ''), (395272, ''), (132784, 'GDI+ Window (Explorer.EXE)'), (262312, ''), (460838, 'Settings'), (198660, 'Settings'), (132270, ''), (329806, ''), (1247178, 'DesktopWindowXamlSource'), (395168, ''), (1574722, ''), (198586, ''), (131826, ''), (131694, 'GDI+ Window (Spotify.exe)'), (65866, ''), (67586, ''), (67478, ''), (329550, ''), (67450, ''), (329542, ''), (132964, ''), (329546, ''), (198094, ''), (131742, 'DesktopWindowXamlSource'), (197304, 'CSpThreadTask Window'), (67346, ''), (67328, ''), (67314, ''), (67302, ''), (1311388, ''), (132756, ''), (131704, ''), (131108, 'WinEventHub'), (329362, ''), (132714, 'GSPY HidDevice Window'), (132698, ''), (132700, ''), (67186, ''), (67176, ''), (67142, ''), (67136, 'SSEdevice.dll'), (67124, 'ROCCAT_Swarm_Monitor'), (132644, 'ROCCAT Swarm Monitor'), (67104, 'QTrayIconMessageWindow'), (67094, ''), (132624, 'Logi_Devio_MainWindow'), (132610, ''), (198116, ''), (198106, ''), (132608, ''), (67064, ''), (67004, ''), (66998, ''), (66994, ''), (66984, ''), (132506, ''), (66966, 'NVIDIA NodeJS Share Window'), (67020, ''), (66954, 'NVIDIA GeForce Overlay'), (66948, ''), (66944, ''), (66940, ''), (66934, ''), (66920, ''), (66908, ''), (66900, ''), (66896, ''), (197960, ''), (66892, '{1274D398-C3C8-422E-87DD-2FAFFD5A7F2F}'), (66884, '{2A335767-FC94-417F-ABC4-B4122ADBEE60}'), (66882, ''), (132408, 'SecurityHealthSystray'), (66876, 'RealtekAudioBackgroundProcessClass'), (66868, '{5AEA657D-F3F5-4BD8-BFE9-A4B537FA24C3}'), (66748, 'Windows Input Experience'), (66742, ''), (66740, 'WinMBAPIWnd'), (66736, 'GDI+ Window (LEDKeeper2.exe)'), (66706, ''), (66704, ''), (66702, 'SystemResourceNotifyWindow'), (132230, 'MediaContextNotificationWindow'), (131596, 'ActiveMovie Window'), (132224, '.NET-BroadcastEventWindow.3b95145.0'), (66698, ''), (66684, ''), (394358, 'ActiveMovie Window'), (66680, '.NET-BroadcastEventWindow.4.0.0.0.1e84ccb.0'), (131782, 'SystemResourceNotifyWindow'), (197316, '.NET-BroadcastEventWindow.4.0.0.0.2cea0ca.0'), (66674, ''), (66658, 'MediaContextNotificationWindow'), (66650, ''), (66588, ''), (66586, ''), (66656, ''), (131524, 'NVIDIA BROADCAST'), (198224, ''), (132692, ''), (132690, ''), (132694, ''), (132696, ''), (66486, ''), (66456, ''), (66452, ''), (66448, ''), (66444, ''), (66440, ''), (66436, ''), (66432, ''), (66428, ''), (66414, ''), (66388, ''), (66384, ''), (131840, ''), (66300, 'GDI+ Window (NVIDIA Broadcast UI.exe)'), (131212, ''), (196720, 'UxdService'), (66210, 'NvSvc'), (262754, 'BluetoothNotificationAreaIconWindowClass'), (66122, 'MS_WebcheckMonitor'), (66112, ''), (66102, ''), (721408, ''), (131586, 'DDE Server Window'), (131540, 'BroadcastListenerWindow'), (65908, ''), (65912, ''), (65930, ''), (65936, ''), (66002, ''), (65938, ''), (65910, ''), (65884, ''), (65882, ''), (65880, ''), (65878, ''), (329684, ''), (65862, ''), (65854, ''), (65852, ''), (65832, ''), (65830, ''), (65778, 'BroadcastListenerWindow'), (65740, 'BroadcastListenerWindow'), (65742, 'BroadcastListenerWindow'), (65708, 'Windows Push Notifications Platform'), (65692, ''), (65688, ''), (196708, 'Task Host Window'), (262234, 'NvContainerWindowClass00008DB4'), (262252, 'NvContainerWindowClass00007334'), (65664, ''), (65660, 'NvContainerWindowClass00006AA0'), (65654, 'NvContainerWindowClass000093EC'), (65640, 'NvContainerWindowClass000079F4'), (65574, 'DWM Notification Window'), (66184, ''), (66960, 'NVIDIA GeForce Overlay DT'), (591786, 'Spotify Free'), (264018, 'Friends - Discord'), (459942, 'Code'), (196798, 'Screen Capturing and Streaming With Python | by Anthony Morast | Analytics Vidhya | Medium — Firefox Developer Edition'), (65838, 'Program Manager'), (65952, 'Default IME'), (65828, 'MSCTFIME UI'), (131210, 'Default IME'), (66096, 'Default IME'), (263636, 'Default IME'), (394828, 'MSCTFIME UI'), (328050, 'Default IME'), (132766, 'MSCTFIME UI'), (591556, 'Default IME'), (329734, 'Default IME'), (854082, 'Default IME'), (198324, 'Default IME'), (5178090, 'Default IME'), (328034, 'Default IME'), (132782, 'Default IME'), (262326, 'Default IME'), (133162, 'Default IME'), (264154, 'Default IME'), (132260, 'Default IME'), (6817844, 'Default IME'), (395182, 'Default IME'), (131824, 'Default IME'), (67404, 'MSCTFIME UI'), (65864, 'Default IME'), (67480, 'Default IME'), (262842, 'Default IME'), (67348, 'Default IME'), (67304, 'Default IME'), (67222, 'Default IME'), (132716, 'Default IME'), (132702, 'Default IME'), (67188, 'Default IME'), (132706, 'Default IME'), (67144, 'Default IME'), (67138, 'Default IME'), (67106, 'Default IME'), (67096, 'Default IME'), (131706, 'Default IME'), (132590, 'Default IME'), (132588, 'Default IME'), (67066, 'Default IME'), (66986, 'Default IME'), (66972, 'Default IME'), (66968, 'Default IME'), (66946, 'Default IME'), (66922, 'Default IME'), (66910, 'Default IME'), (66902, 'Default IME'), (66898, 'Default IME'), (197962, 'Default IME'), (66894, 'Default IME'), (66886, 'Default IME'), (66880, 'Default IME'), (66878, 'Default IME'), (66870, 'Default IME'), (66750, 'Default IME'), (66744, 'Default IME'), (66738, 'Default IME'), (132226, 'Default IME'), (66700, 'Default IME'), (66686, 'Default IME'), (66682, 'Default IME'), (66676, 'Default IME'), (66652, 'Default IME'), (66592, 'Default IME'), (66590, 'Default IME'), (67018, 'MSCTFIME UI'), (66306, 'Default IME'), (66302, 'Default IME'), (66238, 'Default IME'), (66114, 'Default IME'), (66104, 'Default IME'), (197124, 'Default IME'), (131536, 'Default IME'), (395222, 'Default IME'), (65858, 'MSCTFIME UI'), (65834, 'Default IME'), (65780, 'Default IME'), (65746, 'Default IME'), (65744, 'Default IME'), (65710, 'Default IME'), (65690, 'Default IME'), (589956, 'Default IME'), (131098, 'Default IME'), (65662, 'Default IME'), (65658, 'Default IME'), (66958, 'MSCTFIME UI'), (66936, 'Default IME'), (133088, 'MSCTFIME UI'), (198584, 'Default IME'), (67458, 'MSCTFIME UI'), (67422, 'Default IME'), (131268, 'MSCTFIME UI'), (196656, 'Default IME')]\n"
     ]
    }
   ],
   "source": [
    "win32gui.EnumWindows(enum_cb, winlist)\n",
    "print(winlist)"
   ]
  },
  {
   "cell_type": "code",
   "execution_count": 7,
   "metadata": {},
   "outputs": [],
   "source": [
    "def get_screens(screen_name):\n",
    "    # wait for the program to start initially.\n",
    "    win32gui.EnumWindows(enum_cb, winlist)\n",
    "    screens = [(hwnd, title) for hwnd, title in winlist if screen_name in title.lower()]\n",
    "    # while len(screens) == 0:\n",
    "    #     screens = [(hwnd, title) for hwnd, title in winlist if screen_name in title.lower()]\n",
    "    #     win32gui.EnumWindows(enum_cb, winlist)\n",
    "\n",
    "    return screens"
   ]
  },
  {
   "cell_type": "code",
   "execution_count": null,
   "metadata": {},
   "outputs": [
    {
     "ename": "",
     "evalue": "",
     "output_type": "error",
     "traceback": [
      "\u001b[1;31mThe Kernel crashed while executing code in the the current cell or a previous cell. Please review the code in the cell(s) to identify a possible cause of the failure. Click <a href='https://aka.ms/vscodeJupyterKernelCrash'>here</a> for more info. View Jupyter <a href='command:jupyter.viewOutput'>log</a> for further details."
     ]
    }
   ],
   "source": [
    "\n",
    "winlist = []\n",
    "screen = 'firefox'\n",
    "screens = get_screens(screen)\n",
    "\n",
    "last_time = time.time()\n",
    "cont = True\n",
    "while cont:\n",
    "    if len(get_screens(screen)) <= 0:   # check if closed\n",
    "        cont = False\n",
    "        continue\n",
    "\n",
    "    window = screens[0][0]\n",
    "    try:\n",
    "        print_screen = np.array(ImageGrab.grab(bbox=win32gui.GetWindowRect(window)))\n",
    "        print(\"loop took {} seconds\".format(time.time() - last_time))\n",
    "        last_time = time.time()\n",
    "        cv2.imshow('window',cv2.cvtColor(print_screen, cv2.COLOR_BGR2RGB))\n",
    "        if cv2.waitKey(25) & 0xFF == ord('q'):\n",
    "            cv2.destroyAllWindows()\n",
    "            cont=False\n",
    "            break\n",
    "    except Exception as e:\n",
    "        print(\"error\", e)"
   ]
  }
 ],
 "metadata": {
  "kernelspec": {
   "display_name": ".venv",
   "language": "python",
   "name": "python3"
  },
  "language_info": {
   "codemirror_mode": {
    "name": "ipython",
    "version": 3
   },
   "file_extension": ".py",
   "mimetype": "text/x-python",
   "name": "python",
   "nbconvert_exporter": "python",
   "pygments_lexer": "ipython3",
   "version": "3.9.8"
  },
  "orig_nbformat": 4
 },
 "nbformat": 4,
 "nbformat_minor": 2
}
